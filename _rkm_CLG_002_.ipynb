{
  "cells": [
    {
      "cell_type": "markdown",
      "metadata": {
        "id": "view-in-github",
        "colab_type": "text"
      },
      "source": [
        "<a href=\"https://colab.research.google.com/github/RAJUKM879/CLG/blob/main/_rkm_CLG_002_.ipynb\" target=\"_parent\"><img src=\"https://colab.research.google.com/assets/colab-badge.svg\" alt=\"Open In Colab\"/></a>"
      ]
    },
    {
      "cell_type": "code",
      "execution_count": null,
      "id": "823ae981",
      "metadata": {
        "id": "823ae981"
      },
      "outputs": [],
      "source": []
    },
    {
      "cell_type": "code",
      "execution_count": null,
      "id": "f422d9c8",
      "metadata": {
        "id": "f422d9c8",
        "outputId": "8e83e48d-229e-4088-8d5e-937f2e4f80a9"
      },
      "outputs": [
        {
          "name": "stdout",
          "output_type": "stream",
          "text": [
            "10\n"
          ]
        }
      ],
      "source": [
        "import numpy as np\n",
        "arr = np.array([1, 2, 3, 4])\n",
        "print(arr.sum())"
      ]
    },
    {
      "cell_type": "code",
      "execution_count": null,
      "id": "35bdb591",
      "metadata": {
        "id": "35bdb591",
        "outputId": "b1439863-0580-4fb7-fad3-f1edaee5ef56"
      },
      "outputs": [
        {
          "name": "stdout",
          "output_type": "stream",
          "text": [
            "2.5\n"
          ]
        }
      ],
      "source": [
        "import numpy as np\n",
        "arr = np.array([1, 2, 3, 4])\n",
        "print(arr.mean())"
      ]
    },
    {
      "cell_type": "code",
      "execution_count": null,
      "id": "e075dcbe",
      "metadata": {
        "id": "e075dcbe",
        "outputId": "f9e34de9-08db-4794-e576-81fbec880f40"
      },
      "outputs": [
        {
          "name": "stdout",
          "output_type": "stream",
          "text": [
            "1\n"
          ]
        }
      ],
      "source": [
        "import numpy as np\n",
        "arr = np.array([1, 2, 3, 4])\n",
        "print(arr.min())"
      ]
    },
    {
      "cell_type": "code",
      "execution_count": null,
      "id": "768eb89f",
      "metadata": {
        "id": "768eb89f",
        "outputId": "5eac374d-b6d3-48cb-a56d-afdfad438c90"
      },
      "outputs": [
        {
          "name": "stdout",
          "output_type": "stream",
          "text": [
            "4\n"
          ]
        }
      ],
      "source": [
        "import numpy as np\n",
        "arr = np.array([1, 2, 3, 4])\n",
        "print(arr.max())"
      ]
    },
    {
      "cell_type": "code",
      "execution_count": null,
      "id": "06b3b631",
      "metadata": {
        "id": "06b3b631",
        "outputId": "4d57e25b-b436-4821-f3de-9d7ee2715692"
      },
      "outputs": [
        {
          "name": "stdout",
          "output_type": "stream",
          "text": [
            "Input Array: \n",
            " [[ 5  4  1  7]\n",
            " [14 15  0 10]\n",
            " [ 1  2  5  9]\n",
            " [ 0  7  3  6]]\n",
            "largest number in x axis:  [ 7 15  9  7]\n",
            "largest number in y axis:  [14 15  5 10]\n"
          ]
        }
      ],
      "source": [
        "import numpy as np\n",
        "import random\n",
        "array = np.random.randint(16,size=(4,4))\n",
        "print(\"Input Array: \\n\",array)\n",
        "print(\"largest number in x axis: \",np.max(array,axis=1))\n",
        "print(\"largest number in y axis: \",np.max(array,axis=0))\n",
        "\n"
      ]
    },
    {
      "cell_type": "code",
      "execution_count": null,
      "id": "9aff30b3",
      "metadata": {
        "id": "9aff30b3",
        "outputId": "8a1ff1d0-9e41-4605-92fe-179e9c401b9d"
      },
      "outputs": [
        {
          "name": "stdout",
          "output_type": "stream",
          "text": [
            "Input Array: \n",
            " [[ 4 14  4  3]\n",
            " [ 0 14 15 13]\n",
            " [14 12 11 14]\n",
            " [12  3  9  3]]\n",
            "Smallest number in x axis:  [ 3  0 11  3]\n",
            "Smallest number in y axis:  [0 3 4 3]\n"
          ]
        }
      ],
      "source": [
        "import numpy as np\n",
        "import random\n",
        "array = np.random.randint(16,size=(4,4))\n",
        "print(\"Input Array: \\n\",array)\n",
        "\n",
        "print(\"Smallest number in x axis: \",np.min(array,axis=1))\n",
        "print(\"Smallest number in y axis: \",np.min(array,axis=0))"
      ]
    },
    {
      "cell_type": "code",
      "execution_count": null,
      "id": "6a975798",
      "metadata": {
        "id": "6a975798",
        "outputId": "3a5ffd7e-3d85-4ae3-9d22-3fa5ac9a2afc"
      },
      "outputs": [
        {
          "name": "stdout",
          "output_type": "stream",
          "text": [
            "1.118033988749895\n"
          ]
        }
      ],
      "source": [
        "print(arr.std())"
      ]
    },
    {
      "cell_type": "code",
      "execution_count": null,
      "id": "a10d41c6",
      "metadata": {
        "id": "a10d41c6",
        "outputId": "cd8d32fb-1769-45f2-8ac1-3b282acc6d39"
      },
      "outputs": [
        {
          "name": "stdout",
          "output_type": "stream",
          "text": [
            "[ 0.84147098  0.90929743  0.14112001 -0.7568025 ]\n"
          ]
        }
      ],
      "source": [
        "\n",
        "\n",
        "\n",
        "print(np.sin(arr))\n"
      ]
    },
    {
      "cell_type": "code",
      "execution_count": null,
      "id": "414e666b",
      "metadata": {
        "id": "414e666b",
        "outputId": "65f5f815-2dd6-49ac-b2b4-2b4a55fd635c"
      },
      "outputs": [
        {
          "name": "stdout",
          "output_type": "stream",
          "text": [
            "[3 4 5]\n"
          ]
        }
      ],
      "source": [
        "arr = np.array([1, 2, 3])\n",
        "print(arr + 2)\n"
      ]
    },
    {
      "cell_type": "code",
      "execution_count": null,
      "id": "8d154808",
      "metadata": {
        "id": "8d154808",
        "outputId": "bc210c3a-40ad-4e22-f1dc-af133645ab9f"
      },
      "outputs": [
        {
          "name": "stdout",
          "output_type": "stream",
          "text": [
            "Squared using map: [np.int64(1), np.int64(4), np.int64(9)]\n"
          ]
        }
      ],
      "source": [
        "import numpy as np\n",
        "import random\n",
        "\n",
        "array = np.random.randint([1,2,3,4])\n",
        "squared = list(map(lambda x: x**2, arr))\n",
        "print(\"Squared using map:\", squared)\n",
        "#Example of map()\n"
      ]
    },
    {
      "cell_type": "code",
      "execution_count": null,
      "id": "648a6922",
      "metadata": {
        "id": "648a6922",
        "outputId": "fedb87ac-44a1-47ce-999e-002920faab41"
      },
      "outputs": [
        {
          "name": "stdout",
          "output_type": "stream",
          "text": [
            "[1, 4, 9, 16]\n"
          ]
        }
      ],
      "source": [
        "def square(number):\n",
        "    return number * number\n",
        "\n",
        "nums = [1, 2, 3, 4]\n",
        "squared_numbers = list(map(square, nums))\n",
        "\n",
        "print(squared_numbers)\n",
        "\n",
        "\n",
        "\n",
        "\n"
      ]
    },
    {
      "cell_type": "code",
      "execution_count": null,
      "id": "cf47f224",
      "metadata": {
        "id": "cf47f224",
        "outputId": "914af73e-4adc-48a1-a4fe-6b562d402640"
      },
      "outputs": [
        {
          "name": "stdout",
          "output_type": "stream",
          "text": [
            "[1, 4, 9, 16, 25, 36]\n"
          ]
        }
      ],
      "source": [
        "nums1= [1,2,3,4,5,6]\n",
        "squareOfnums1 = list(map(lambda n:n*n,nums1))\n",
        "print(squareOfnums1)"
      ]
    },
    {
      "cell_type": "code",
      "execution_count": null,
      "id": "c8967f9f",
      "metadata": {
        "id": "c8967f9f",
        "outputId": "997af74a-8b38-4a93-bd19-7aa7a770bf68"
      },
      "outputs": [
        {
          "name": "stdout",
          "output_type": "stream",
          "text": [
            "[2, 4]\n"
          ]
        }
      ],
      "source": [
        "def is_even(n):\n",
        "    if n % 2 ==0:\n",
        "        return True\n",
        "    else:\n",
        "        return False\n",
        "\n",
        "nums = [1,2,3,4]\n",
        "evens = list(filter(is_even,nums))\n",
        "print(evens)"
      ]
    },
    {
      "cell_type": "code",
      "execution_count": null,
      "id": "eda41046",
      "metadata": {
        "id": "eda41046",
        "outputId": "50e03f11-f941-4388-ffff-f60f91cd5afc"
      },
      "outputs": [
        {
          "name": "stdout",
          "output_type": "stream",
          "text": [
            "10\n"
          ]
        }
      ],
      "source": [
        "from functools import reduce\n",
        "\n",
        "def sum_all(a, b):\n",
        "    return a + b\n",
        "\n",
        "nums = [1, 2, 3, 4]\n",
        "total = reduce(sum_all, nums)\n",
        "\n",
        "print(total)\n"
      ]
    },
    {
      "cell_type": "code",
      "execution_count": null,
      "id": "c33b7454",
      "metadata": {
        "id": "c33b7454",
        "outputId": "45980ba4-2214-4f0f-e64a-d1289f67cb62"
      },
      "outputs": [
        {
          "name": "stdout",
          "output_type": "stream",
          "text": [
            "Sum using reduce: 6\n"
          ]
        }
      ],
      "source": [
        "total = reduce(lambda x, y: x + y, arr)\n",
        "print(\"Sum using reduce:\", total)\n"
      ]
    },
    {
      "cell_type": "code",
      "execution_count": null,
      "id": "029c7445",
      "metadata": {
        "id": "029c7445",
        "outputId": "7f4b35d6-3a01-4972-cd8b-c724e86213c4"
      },
      "outputs": [
        {
          "name": "stdout",
          "output_type": "stream",
          "text": [
            "a    10\n",
            "b    20\n",
            "c    30\n",
            "d    40\n",
            "dtype: int64\n"
          ]
        }
      ],
      "source": [
        "import pandas as pd\n",
        "data = pd.Series([10, 20, 30, 40], index=['a', 'b', 'c', 'd'])\n",
        "print(data)"
      ]
    },
    {
      "cell_type": "code",
      "execution_count": null,
      "id": "4a480878",
      "metadata": {
        "id": "4a480878",
        "outputId": "768c0176-2c1c-48f0-bf9f-18dede6cd08d"
      },
      "outputs": [
        {
          "name": "stdout",
          "output_type": "stream",
          "text": [
            "      Name  Age       City\n",
            "0    Alice   25      Delhi\n",
            "1      Bob   30     Mumbai\n",
            "2  Charlie   35  Bangalore\n"
          ]
        }
      ],
      "source": [
        "data = {\n",
        "    'Name': ['Alice', 'Bob', 'Charlie'],\n",
        "    'Age': [25, 30, 35],\n",
        "    'City': ['Delhi', 'Mumbai', 'Bangalore']\n",
        "}\n",
        "df = pd.DataFrame(data)\n",
        "print(df)"
      ]
    },
    {
      "cell_type": "code",
      "execution_count": null,
      "id": "c31bf1c9",
      "metadata": {
        "id": "c31bf1c9",
        "outputId": "5739e1d1-09aa-42a2-8553-7c56b1098249"
      },
      "outputs": [
        {
          "name": "stdout",
          "output_type": "stream",
          "text": [
            "<class 'pandas.core.frame.DataFrame'>\n",
            "RangeIndex: 5 entries, 0 to 4\n",
            "Data columns (total 3 columns):\n",
            " #   Column  Non-Null Count  Dtype \n",
            "---  ------  --------------  ----- \n",
            " 0   Name    5 non-null      object\n",
            " 1   Age     5 non-null      int64 \n",
            " 2   City    5 non-null      object\n",
            "dtypes: int64(1), object(2)\n",
            "memory usage: 252.0+ bytes\n",
            "0      Alice\n",
            "1        Bob\n",
            "2    Charlie\n",
            "3      David\n",
            "4        Eva\n",
            "Name: Name, dtype: object\n",
            "Name       Alice\n",
            "Age           30\n",
            "City    New York\n",
            "Name: 0, dtype: object\n",
            "Name    Charlie\n",
            "Age          35\n",
            "City    Chicago\n",
            "Name: 2, dtype: object\n"
          ]
        }
      ],
      "source": [
        "import pandas as pd\n",
        "df = pd.read_csv('rkm-001.csv')\n",
        "\n",
        "\n",
        "df.to_csv('output.csv', index=False)\n",
        "\n",
        "df.head()\n",
        "df.tail()\n",
        "df.info()\n",
        "df.describe()\n",
        "df.columns\n",
        "df.shape\n",
        "\n",
        "\n",
        "\n",
        "\n",
        "print(df['Name'])\n",
        "\n",
        "print(df.loc[0])\n",
        "print(df.iloc[2])"
      ]
    },
    {
      "cell_type": "code",
      "execution_count": null,
      "id": "231c2183",
      "metadata": {
        "id": "231c2183",
        "outputId": "249badb2-b163-49e1-cdef-134dc6fc548a"
      },
      "outputs": [
        {
          "name": "stdout",
          "output_type": "stream",
          "text": [
            "      Name  Age      City\n",
            "0    Alice   30  New York\n",
            "2  Charlie   35   Chicago\n",
            "3    David   28   Houston\n"
          ]
        }
      ],
      "source": [
        "filtered = df[df['Age'] > 25]\n",
        "print(filtered)\n"
      ]
    },
    {
      "cell_type": "code",
      "execution_count": null,
      "id": "a7975418",
      "metadata": {
        "id": "a7975418",
        "outputId": "cabac02e-757e-4683-9b91-409c4fd4615b"
      },
      "outputs": [
        {
          "name": "stdout",
          "output_type": "stream",
          "text": [
            "            0\n",
            "0       Apple\n",
            "1       Mango\n",
            "2      Banana\n",
            "3  Pine Apple\n",
            "4      Grapes\n",
            "5  Watermelon\n"
          ]
        }
      ],
      "source": [
        "import pandas as pd\n",
        "# list of strings\n",
        "lst = ['Apple', 'Mango', 'Banana', 'Pine Apple', 'Grapes', 'Watermelon']\n",
        "# Calling DataFrame constructor on list\n",
        "df = pd.DataFrame(lst)\n",
        "print(df)\n"
      ]
    },
    {
      "cell_type": "code",
      "execution_count": null,
      "id": "4cfa4d3a",
      "metadata": {
        "id": "4cfa4d3a",
        "outputId": "d2432949-16a3-4d9b-c73b-980d2d08f4a0"
      },
      "outputs": [
        {
          "name": "stdout",
          "output_type": "stream",
          "text": [
            "  Department Employee  Salary  Age\n",
            "0         HR    Alice   50000   25\n",
            "1         HR      Bob   55000   30\n",
            "2         IT  Charlie   60000   28\n",
            "3         IT    David   65000   32\n",
            "4    Finance      Eva   70000   40\n",
            "5    Finance    Frank   72000   38\n"
          ]
        }
      ],
      "source": [
        "\n",
        "# Creating a Sample DataFrame\n",
        "import pandas as pd\n",
        "data = {\n",
        "    'Department': ['HR', 'HR', 'IT', 'IT', 'Finance', 'Finance'],\n",
        "    'Employee': ['Alice', 'Bob', 'Charlie', 'David', 'Eva', 'Frank'],\n",
        "    'Salary': [50000, 55000, 60000, 65000, 70000, 72000],\n",
        "    'Age': [25, 30, 28, 32, 40, 38]\n",
        "}\n",
        "df = pd.DataFrame(data)\n",
        "print(df)"
      ]
    },
    {
      "cell_type": "code",
      "execution_count": null,
      "id": "fbdb9316",
      "metadata": {
        "id": "fbdb9316",
        "outputId": "6a08e8e9-c6b5-40d9-ce60-00afed094921"
      },
      "outputs": [
        {
          "name": "stdout",
          "output_type": "stream",
          "text": [
            "62000.0\n",
            "40\n",
            "Department\n",
            "Finance    71000.0\n",
            "HR         52500.0\n",
            "IT         62500.0\n",
            "Name: Salary, dtype: float64\n",
            "/n\n",
            "               mean    max    min\n",
            "Department                       \n",
            "Finance     71000.0  72000  70000\n",
            "HR          52500.0  55000  50000\n",
            "IT          62500.0  65000  60000\n",
            "Department  Location\n",
            "Finance     Delhi       72000.0\n",
            "            Mumbai      70000.0\n",
            "HR          Delhi       55000.0\n",
            "            Mumbai      50000.0\n",
            "IT          Delhi       65000.0\n",
            "            Mumbai      60000.0\n",
            "Name: Salary, dtype: float64\n",
            "             Salary Age    \n",
            "               mean min max\n",
            "Department                 \n",
            "Finance     71000.0  38  40\n",
            "HR          52500.0  25  30\n",
            "IT          62500.0  28  32\n"
          ]
        }
      ],
      "source": [
        "\n",
        "print(df['Salary'].mean())\n",
        "# Max age\n",
        "print(df['Age'].max())\n",
        "\n",
        "# Group by Department and get mean salary\n",
        "grouped = df.groupby('Department')['Salary'].mean()\n",
        "print(grouped)\n",
        "print(\"/n\")\n",
        "\n",
        "#  Multiple Aggregation Functions\n",
        "# Get multiple aggregations\n",
        "grouped = df.groupby('Department')['Salary'].agg(['mean', 'max', 'min'])\n",
        "print(grouped)\n",
        "\n",
        "#  Group By Multiple Columns\n",
        "# Add another field to group (if exists)\n",
        "df['Location'] = ['Mumbai', 'Delhi', 'Mumbai', 'Delhi', 'Mumbai', 'Delhi']\n",
        "# Group by Department and Location\n",
        "grouped = df.groupby(['Department', 'Location'])['Salary'].mean()\n",
        "print(grouped)\n",
        "\n",
        "#  Using agg() with Custom Functions\n",
        "# Custom aggregation on multiple columns\n",
        "result = df.groupby('Department').agg({\n",
        "    'Salary': 'mean',\n",
        "    'Age': ['min', 'max']\n",
        "})\n",
        "print(result)"
      ]
    },
    {
      "cell_type": "code",
      "execution_count": null,
      "id": "ffc1e267",
      "metadata": {
        "id": "ffc1e267",
        "outputId": "84bead84-0934-45ad-bd8e-55657b43ef69"
      },
      "outputs": [
        {
          "name": "stdout",
          "output_type": "stream",
          "text": [
            "    Name  Age\n",
            "0    Tom   20\n",
            "1   nick   21\n",
            "2  krish   19\n",
            "3   jack   18\n"
          ]
        }
      ],
      "source": [
        "#  Creating DataFrame from dict:\n",
        "import pandas as pd\n",
        "# intialise data of lists.\n",
        "data ={'Name':['Tom', 'nick', 'krish', 'jack'],\n",
        "       'Age':[20, 21, 19, 18]\n",
        "}\n",
        "# Create DataFrame\n",
        "df = pd.DataFrame(data)\n",
        "print(df)"
      ]
    }
  ],
  "metadata": {
    "kernelspec": {
      "display_name": "Python 3",
      "language": "python",
      "name": "python3"
    },
    "language_info": {
      "codemirror_mode": {
        "name": "ipython",
        "version": 3
      },
      "file_extension": ".py",
      "mimetype": "text/x-python",
      "name": "python",
      "nbconvert_exporter": "python",
      "pygments_lexer": "ipython3",
      "version": "3.13.5"
    },
    "colab": {
      "provenance": [],
      "include_colab_link": true
    }
  },
  "nbformat": 4,
  "nbformat_minor": 5
}